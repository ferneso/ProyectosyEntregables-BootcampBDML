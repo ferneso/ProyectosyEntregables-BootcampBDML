{
 "cells": [
  {
   "cell_type": "code",
   "execution_count": 1,
   "metadata": {},
   "outputs": [],
   "source": [
    "import findspark\n",
    "findspark.init()\n",
    "\n",
    "import pandas as pd\n",
    "import pyspark"
   ]
  },
  {
   "cell_type": "code",
   "execution_count": 2,
   "metadata": {},
   "outputs": [],
   "source": [
    "from pyspark.sql import SparkSession\n",
    "from pyspark.sql.functions import * "
   ]
  },
  {
   "cell_type": "code",
   "execution_count": 6,
   "metadata": {},
   "outputs": [],
   "source": [
    "spark = SparkSession.builder.getOrCreate()\n"
   ]
  },
  {
   "cell_type": "code",
   "execution_count": 8,
   "metadata": {},
   "outputs": [
    {
     "name": "stdout",
     "output_type": "stream",
     "text": [
      "root\n",
      " |-- Country name: string (nullable = true)\n",
      " |-- Regional indicator: string (nullable = true)\n",
      " |-- Ladder score: double (nullable = true)\n",
      " |-- Standard error of ladder score: double (nullable = true)\n",
      " |-- upperwhisker: double (nullable = true)\n",
      " |-- lowerwhisker: double (nullable = true)\n",
      " |-- Logged GDP per capita: double (nullable = true)\n",
      " |-- Social support: double (nullable = true)\n",
      " |-- Healthy life expectancy: double (nullable = true)\n",
      " |-- Freedom to make life choices: double (nullable = true)\n",
      " |-- Generosity: double (nullable = true)\n",
      " |-- Perceptions of corruption: double (nullable = true)\n",
      " |-- Ladder score in Dystopia: double (nullable = true)\n",
      " |-- Explained by: Log GDP per capita: double (nullable = true)\n",
      " |-- Explained by: Social support: double (nullable = true)\n",
      " |-- Explained by: Healthy life expectancy: double (nullable = true)\n",
      " |-- Explained by: Freedom to make life choices: double (nullable = true)\n",
      " |-- Explained by: Generosity: double (nullable = true)\n",
      " |-- Explained by: Perceptions of corruption: double (nullable = true)\n",
      " |-- Dystopia + residual: double (nullable = true)\n",
      "\n"
     ]
    }
   ],
   "source": [
    "#Carga dataset 1 \"world-happines-report-2021\"\n",
    "\n",
    "df1 = spark.read.option(\"header\", \"true\").csv(\"C:/Users/ferna/Documents/Bootcamp_keepcoding/Bootcamp/bd_proc/big-data-processing/Proyecto-Final/Datasets/world-happiness-report-2021.csv\", inferSchema = True)\n",
    "\n",
    "df1.printSchema()"
   ]
  },
  {
   "cell_type": "code",
   "execution_count": 10,
   "metadata": {},
   "outputs": [
    {
     "name": "stdout",
     "output_type": "stream",
     "text": [
      "+--------------+------------+\n",
      "|  Country name|Ladder score|\n",
      "+--------------+------------+\n",
      "|       Finland|       7.842|\n",
      "|       Denmark|        7.62|\n",
      "|   Switzerland|       7.571|\n",
      "|       Iceland|       7.554|\n",
      "|   Netherlands|       7.464|\n",
      "|        Norway|       7.392|\n",
      "|        Sweden|       7.363|\n",
      "|    Luxembourg|       7.324|\n",
      "|   New Zealand|       7.277|\n",
      "|       Austria|       7.268|\n",
      "|     Australia|       7.183|\n",
      "|        Israel|       7.157|\n",
      "|       Germany|       7.155|\n",
      "|        Canada|       7.103|\n",
      "|       Ireland|       7.085|\n",
      "|    Costa Rica|       7.069|\n",
      "|United Kingdom|       7.064|\n",
      "|Czech Republic|       6.965|\n",
      "| United States|       6.951|\n",
      "|       Belgium|       6.834|\n",
      "+--------------+------------+\n",
      "only showing top 20 rows\n",
      "\n"
     ]
    }
   ],
   "source": [
    "#1. ¿Cuál es el país más “feliz” del 2021 según la data? (considerar que la columna “Life Leadder” mayor número más feliz es el país)\n",
    "df1.select(\"Country name\", \"Ladder score\").orderBy(desc(\"Ladder score\")).show(20)"
   ]
  },
  {
   "cell_type": "code",
   "execution_count": 27,
   "metadata": {},
   "outputs": [
    {
     "name": "stdout",
     "output_type": "stream",
     "text": [
      "+--------------------+-----------------+--------------------+\n",
      "|  Regional indicator|max(Ladder score)| first(Country name)|\n",
      "+--------------------+-----------------+--------------------+\n",
      "|Central and Easte...|            6.965|      Czech Republic|\n",
      "|Commonwealth of I...|            6.179|          Uzbekistan|\n",
      "|           East Asia|            6.584|Taiwan Province o...|\n",
      "|Latin America and...|            7.069|          Costa Rica|\n",
      "|Middle East and N...|            7.157|              Israel|\n",
      "|North America and...|            7.277|         New Zealand|\n",
      "|          South Asia|            5.269|               Nepal|\n",
      "|      Southeast Asia|            6.377|           Singapore|\n",
      "|  Sub-Saharan Africa|            6.049|           Mauritius|\n",
      "|      Western Europe|            7.842|             Finland|\n",
      "+--------------------+-----------------+--------------------+\n",
      "\n"
     ]
    }
   ],
   "source": [
    "#2. ¿Cuál es el país más “feliz” del 2021 por continente según la data?\n",
    "df1.groupBy(\"Regional indicator\").agg(max(\"Ladder score\"), first(\"Country name\")).show()\n"
   ]
  },
  {
   "cell_type": "code",
   "execution_count": 12,
   "metadata": {},
   "outputs": [
    {
     "name": "stdout",
     "output_type": "stream",
     "text": [
      "root\n",
      " |-- Country name: string (nullable = true)\n",
      " |-- year: integer (nullable = true)\n",
      " |-- Life Ladder: double (nullable = true)\n",
      " |-- Log GDP per capita: double (nullable = true)\n",
      " |-- Social support: double (nullable = true)\n",
      " |-- Healthy life expectancy at birth: double (nullable = true)\n",
      " |-- Freedom to make life choices: double (nullable = true)\n",
      " |-- Generosity: double (nullable = true)\n",
      " |-- Perceptions of corruption: double (nullable = true)\n",
      " |-- Positive affect: double (nullable = true)\n",
      " |-- Negative affect: double (nullable = true)\n",
      "\n"
     ]
    }
   ],
   "source": [
    "#Carga dataset 2 \"world-happines-report\"\n",
    "\n",
    "df2 = spark.read.option(\"header\", \"true\").csv(\"C:/Users/ferna/Documents/Bootcamp_keepcoding/Bootcamp/bd_proc/big-data-processing/Proyecto-Final/Datasets/world-happiness-report.csv\", inferSchema = True)\n",
    "\n",
    "df2.printSchema()\n"
   ]
  },
  {
   "cell_type": "code",
   "execution_count": 90,
   "metadata": {},
   "outputs": [
    {
     "name": "stdout",
     "output_type": "stream",
     "text": [
      "+------------+----+-----------+------------------+--------------+--------------------------------+----------------------------+----------+-------------------------+---------------+---------------+\n",
      "|Country name|year|Life Ladder|Log GDP per capita|Social support|Healthy life expectancy at birth|Freedom to make life choices|Generosity|Perceptions of corruption|Positive affect|Negative affect|\n",
      "+------------+----+-----------+------------------+--------------+--------------------------------+----------------------------+----------+-------------------------+---------------+---------------+\n",
      "| Afghanistan|2008|      3.724|              7.37|         0.451|                            50.8|                       0.718|     0.168|                    0.882|          0.518|          0.258|\n",
      "| Afghanistan|2009|      4.402|              7.54|         0.552|                            51.2|                       0.679|      0.19|                     0.85|          0.584|          0.237|\n",
      "| Afghanistan|2010|      4.758|             7.647|         0.539|                            51.6|                         0.6|     0.121|                    0.707|          0.618|          0.275|\n",
      "| Afghanistan|2011|      3.832|              7.62|         0.521|                           51.92|                       0.496|     0.162|                    0.731|          0.611|          0.267|\n",
      "| Afghanistan|2012|      3.783|             7.705|         0.521|                           52.24|                       0.531|     0.236|                    0.776|           0.71|          0.268|\n",
      "| Afghanistan|2013|      3.572|             7.725|         0.484|                           52.56|                       0.578|     0.061|                    0.823|          0.621|          0.273|\n",
      "| Afghanistan|2014|      3.131|             7.718|         0.526|                           52.88|                       0.509|     0.104|                    0.871|          0.532|          0.375|\n",
      "| Afghanistan|2015|      3.983|             7.702|         0.529|                            53.2|                       0.389|      0.08|                    0.881|          0.554|          0.339|\n",
      "| Afghanistan|2016|       4.22|             7.697|         0.559|                            53.0|                       0.523|     0.042|                    0.793|          0.565|          0.348|\n",
      "| Afghanistan|2017|      2.662|             7.697|         0.491|                            52.8|                       0.427|    -0.121|                    0.954|          0.496|          0.371|\n",
      "| Afghanistan|2018|      2.694|             7.692|         0.508|                            52.6|                       0.374|    -0.094|                    0.928|          0.424|          0.405|\n",
      "| Afghanistan|2019|      2.375|             7.697|          0.42|                            52.4|                       0.394|    -0.108|                    0.924|          0.351|          0.502|\n",
      "|     Albania|2007|      4.634|             9.142|         0.821|                            65.8|                       0.529|    -0.009|                    0.875|          0.553|          0.246|\n",
      "|     Albania|2009|      5.485|             9.262|         0.833|                            66.2|                       0.525|    -0.158|                    0.864|           0.64|          0.279|\n",
      "|     Albania|2010|      5.269|             9.303|         0.733|                            66.4|                       0.569|    -0.172|                    0.726|          0.648|            0.3|\n",
      "|     Albania|2011|      5.867|             9.331|         0.759|                           66.68|                       0.487|    -0.205|                    0.877|          0.628|          0.257|\n",
      "|     Albania|2012|       5.51|             9.347|         0.785|                           66.96|                       0.602|    -0.169|                    0.848|          0.607|          0.271|\n",
      "|     Albania|2013|      4.551|             9.359|         0.759|                           67.24|                       0.632|    -0.127|                    0.863|          0.634|          0.338|\n",
      "|     Albania|2014|      4.814|             9.378|         0.626|                           67.52|                       0.735|    -0.025|                    0.883|          0.685|          0.335|\n",
      "|     Albania|2015|      4.607|             9.403|         0.639|                            67.8|                       0.704|    -0.081|                    0.885|          0.688|           0.35|\n",
      "+------------+----+-----------+------------------+--------------+--------------------------------+----------------------------+----------+-------------------------+---------------+---------------+\n",
      "only showing top 20 rows\n",
      "\n"
     ]
    }
   ],
   "source": [
    "df2.show(20)"
   ]
  },
  {
   "cell_type": "code",
   "execution_count": 123,
   "metadata": {},
   "outputs": [
    {
     "name": "stdout",
     "output_type": "stream",
     "text": [
      "+------------+-----------+\n",
      "|Country name|Life ladder|\n",
      "+------------+-----------+\n",
      "| Afghanistan|      4.758|\n",
      "| Afghanistan|      4.402|\n",
      "| Afghanistan|      2.694|\n",
      "| Afghanistan|      2.375|\n",
      "| Afghanistan|      3.572|\n",
      "| Afghanistan|      3.131|\n",
      "| Afghanistan|      3.724|\n",
      "| Afghanistan|      3.983|\n",
      "| Afghanistan|      3.832|\n",
      "| Afghanistan|       4.22|\n",
      "| Afghanistan|      2.662|\n",
      "| Afghanistan|      3.783|\n",
      "|     Albania|      4.634|\n",
      "|     Albania|      5.867|\n",
      "|     Albania|      5.485|\n",
      "|     Albania|       5.51|\n",
      "|     Albania|      4.607|\n",
      "|     Albania|      5.269|\n",
      "|     Albania|      4.551|\n",
      "|     Albania|      4.511|\n",
      "+------------+-----------+\n",
      "only showing top 20 rows\n",
      "\n"
     ]
    }
   ],
   "source": [
    "\n",
    "df3a = df2.select(\"Country name\", \"Life ladder\").orderBy(\"Country name\")\n",
    "df3a.show()\n"
   ]
  },
  {
   "cell_type": "code",
   "execution_count": 119,
   "metadata": {},
   "outputs": [
    {
     "name": "stdout",
     "output_type": "stream",
     "text": [
      "+----+---------------+\n",
      "|year|happiness_index|\n",
      "+----+---------------+\n",
      "|2007|          7.834|\n",
      "|2018|          7.858|\n",
      "|2015|          7.603|\n",
      "|2006|          7.672|\n",
      "|2013|          7.594|\n",
      "|2014|          7.508|\n",
      "|2019|           7.78|\n",
      "|2020|          7.889|\n",
      "|2012|          7.776|\n",
      "|2009|          7.683|\n",
      "|2016|           7.66|\n",
      "|2005|          8.019|\n",
      "|2010|          7.771|\n",
      "|2011|          7.788|\n",
      "|2008|          7.971|\n",
      "|2017|          7.788|\n",
      "+----+---------------+\n",
      "\n"
     ]
    }
   ],
   "source": [
    "df3 = df2.select(\"year\", \"Life ladder\").groupBy(\"year\").agg(max(\"Life ladder\").alias(\"happiness_index\"))\n",
    "df3.show()        "
   ]
  },
  {
   "cell_type": "code",
   "execution_count": 127,
   "metadata": {},
   "outputs": [
    {
     "name": "stdout",
     "output_type": "stream",
     "text": [
      "+------------+----+---------------+\n",
      "|Country name|year|happiness_index|\n",
      "+------------+----+---------------+\n",
      "|     Denmark|2005|          8.019|\n",
      "|     Finland|2006|          7.672|\n",
      "|     Denmark|2007|          7.834|\n",
      "|     Denmark|2008|          7.971|\n",
      "|     Denmark|2009|          7.683|\n",
      "|     Denmark|2010|          7.771|\n",
      "|     Denmark|2011|          7.788|\n",
      "|     Finland|2011|          7.788|\n",
      "| Switzerland|2012|          7.776|\n",
      "|      Canada|2013|          7.594|\n",
      "|     Denmark|2013|          7.594|\n",
      "|     Denmark|2014|          7.508|\n",
      "| Switzerland|2014|          7.508|\n",
      "|      Norway|2015|          7.603|\n",
      "|     Finland|2016|           7.66|\n",
      "|     Denmark|2017|          7.788|\n",
      "|     Finland|2017|          7.788|\n",
      "|     Finland|2018|          7.858|\n",
      "|     Finland|2019|           7.78|\n",
      "|     Finland|2020|          7.889|\n",
      "+------------+----+---------------+\n",
      "\n"
     ]
    }
   ],
   "source": [
    "#3. ¿Cuál es el país que más veces ocupó el primer lugar en todos los años?\n",
    "df4 = df3a.join(df3, df3a['Life ladder'] == df3['happiness_index'])\n",
    "df4.select(df3a['Country name'], 'year', 'happiness_index').orderBy('year').show()"
   ]
  },
  {
   "cell_type": "code",
   "execution_count": null,
   "metadata": {},
   "outputs": [],
   "source": []
  }
 ],
 "metadata": {
  "kernelspec": {
   "display_name": "Python 3",
   "language": "python",
   "name": "python3"
  },
  "language_info": {
   "codemirror_mode": {
    "name": "ipython",
    "version": 3
   },
   "file_extension": ".py",
   "mimetype": "text/x-python",
   "name": "python",
   "nbconvert_exporter": "python",
   "pygments_lexer": "ipython3",
   "version": "3.10.9"
  },
  "orig_nbformat": 4
 },
 "nbformat": 4,
 "nbformat_minor": 2
}
